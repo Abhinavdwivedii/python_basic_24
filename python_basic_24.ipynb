{
  "nbformat": 4,
  "nbformat_minor": 0,
  "metadata": {
    "colab": {
      "provenance": []
    },
    "kernelspec": {
      "name": "python3",
      "display_name": "Python 3"
    },
    "language_info": {
      "name": "python"
    }
  },
  "cells": [
    {
      "cell_type": "markdown",
      "source": [
        "#Question1-)What is the relationship between def statements and lambda expressions ?\n",
        "\n"
      ],
      "metadata": {
        "id": "YVA6TN8LO1_I"
      }
    },
    {
      "cell_type": "markdown",
      "source": [
        "Ans. Keyword def that marks the start of the function header. A function name to uniquely identify the function.\n",
        "Function naming follows the same rules of writing identifiers in Python\n",
        "\n",
        "Lambdas are one-line methods without a name or we can say anonymous Func\n",
        "They work practically the same as any other method in Python Lambdas differ from normal Python methods because they can have only one expression, can't contain any statements and their return type is a function object"
      ],
      "metadata": {
        "id": "hrDvOMosO-Zs"
      }
    },
    {
      "cell_type": "markdown",
      "source": [
        "#Question2-) What is the benefit of lambda?"
      ],
      "metadata": {
        "id": "7rZkJlmXPFf3"
      }
    },
    {
      "cell_type": "markdown",
      "source": [
        "Ans. Fewer Lines of Code\n",
        "Lambda functions are inline functions and thus execute comparatively faster Many times lambda functions make code much more readable by avoiding the logical jumps caused by function calls"
      ],
      "metadata": {
        "id": "SkGAbbeKPMNc"
      }
    },
    {
      "cell_type": "markdown",
      "source": [
        "#Question3-) Compare and contrast map, filter, and reduce."
      ],
      "metadata": {
        "id": "lZ4b_TXgPPNT"
      }
    },
    {
      "cell_type": "markdown",
      "source": [
        "Ans. \n",
        "map applies as a transformation to an element.\n",
        "The map() function iterates through all items in the given iterable and executes the function we passed as an argument on each of them. Syntax : map(function, iterable(s))\n",
        "\n",
        "filter accumulates only elements matching a condition.\n",
        "filter() forms a new list that contains only elements that satisfy a certain condition, i.e. the function we passed returns True Syntax : filter(function, iterable(s))\n",
        "\n",
        "reduce accumulates all elements to a single value, by using immutable values\n",
        "reduce() works by calling the function we passed for the first two items in the sequence. The result returned by the function is used in another call to function alongside with the next (third in this case), element Syntax : reduce(function, sequence[, initial])"
      ],
      "metadata": {
        "id": "6vWBezx5PYpF"
      }
    },
    {
      "cell_type": "code",
      "execution_count": 5,
      "metadata": {
        "colab": {
          "base_uri": "https://localhost:8080/"
        },
        "id": "OZBI56B-OKiz",
        "outputId": "618dca5c-ce58-43b8-f297-7b4e79adcd72"
      },
      "outputs": [
        {
          "output_type": "stream",
          "name": "stdout",
          "text": [
            "False\n",
            "False\n",
            "False\n",
            "True\n",
            "True\n"
          ]
        }
      ],
      "source": [
        "\n",
        "### Map functions\n",
        "fruits = [\"apple\", \"mango\", \"grapes\", \"pineapple\", \"pear\"]\n",
        "map_object = map(lambda s: s[0] == \"p\", fruits)\n",
        "\n",
        "\n",
        "for i in map_object:\n",
        "    print(i)"
      ]
    },
    {
      "cell_type": "code",
      "source": [
        "\n",
        "### Filter function\n",
        "fruits = [\"apple\", \"mango\", \"grapes\", \"pineapple\", \"pear\"]\n",
        "filter_object = filter(lambda s: s[0] == \"p\", fruits)\n",
        "\n",
        "for i in filter_object:\n",
        "    print(i)\n",
        "     "
      ],
      "metadata": {
        "colab": {
          "base_uri": "https://localhost:8080/"
        },
        "id": "RJi_0m8nPrqb",
        "outputId": "79129de0-adc7-4ad7-de69-02a73e5811f5"
      },
      "execution_count": 7,
      "outputs": [
        {
          "output_type": "stream",
          "name": "stdout",
          "text": [
            "pineapple\n",
            "pear\n"
          ]
        }
      ]
    },
    {
      "cell_type": "code",
      "source": [
        "\n",
        "### Reduce function\n",
        "from functools import reduce\n",
        "\n",
        "list = [4, 3, 8, 3]\n",
        "print(reduce(lambda x, y: x + y, list))\n",
        "print(\"With an initial value: \" + str(reduce(lambda x, y: x + y, list, 10)))\n",
        "     "
      ],
      "metadata": {
        "colab": {
          "base_uri": "https://localhost:8080/"
        },
        "id": "BPxtuyy5PuYO",
        "outputId": "c3dd733d-ae7c-47f7-a9ba-7f33ae961d87"
      },
      "execution_count": 3,
      "outputs": [
        {
          "output_type": "stream",
          "name": "stdout",
          "text": [
            "18\n",
            "With an initial value: 28\n"
          ]
        }
      ]
    },
    {
      "cell_type": "markdown",
      "source": [
        "#Question4-) What are function annotations, and how are they used?"
      ],
      "metadata": {
        "id": "ymJia51RSYYI"
      }
    },
    {
      "cell_type": "markdown",
      "source": [
        "Ans. ) \n",
        "Function annotation is the standard way to access the metadata with the \n",
        "arguments and the return value of the function.\n",
        "These are nothing but some random and optional Python expressions that get allied to different parts of the function. They get evaluated only during the compile-time and have no significance during the run-time of the code. They do not have any significance or meaning associated with them until accessed by some third-party libraries. They are used to type check the functions by declaring the type of the parameters and the return value for the functions. The string-based annotations help us to improve the help messages.\n",
        "\n",
        "######**Syntax :**\n",
        "\n",
        "######def func(a: 'int') -> 'int':\n",
        "######pass\n",
        "######Annotations for simple parameters:\n",
        "\n",
        "######def func(x: 'float'=10.8, y: 'argument2'):\n",
        "######In the above code the argument, ‘x’ of the function func, has been annotated to float data type and the argument ‘y’ has a string-based annotation. The argument can also be assigned to a default value using a ‘=’ symbol followed by the default value. These default values are optional to the code.\n",
        "######**Annotations for return values:**\n",
        "\n",
        "######def func(a: expression) -> 'int':\n",
        "######The annotations for the return value is written after the ‘->’ symbol."
      ],
      "metadata": {
        "id": "JtW4UncPSnQg"
      }
    },
    {
      "cell_type": "code",
      "source": [
        "def fib(n:'float', b:'int')-> 'result': \n",
        "    pass\n",
        "print(fib.__annotations__)"
      ],
      "metadata": {
        "colab": {
          "base_uri": "https://localhost:8080/"
        },
        "id": "IGYBBYUYSTlJ",
        "outputId": "cb203663-d841-49be-d979-58f4a11dadcc"
      },
      "execution_count": 9,
      "outputs": [
        {
          "output_type": "stream",
          "name": "stdout",
          "text": [
            "{'n': 'float', 'b': 'int', 'return': 'result'}\n"
          ]
        }
      ]
    },
    {
      "cell_type": "markdown",
      "source": [
        "#Question5-) What are recursive functions, and how are they used?"
      ],
      "metadata": {
        "id": "rIl9Js1ATk6Q"
      }
    },
    {
      "cell_type": "markdown",
      "source": [
        "Ans. A recursive function is a function that calls itself during its execution.\n",
        "#####This means that the function will continue to call itself and repeat its behavior until some condition is met to return a result"
      ],
      "metadata": {
        "id": "ARt-CchTTvjH"
      }
    },
    {
      "cell_type": "code",
      "source": [
        "# eg\n",
        "def fact(x):\n",
        "    if x == 1 :\n",
        "        return 1\n",
        "    else :\n",
        "        return x * fact(x-1) # recurtion\n",
        "    \n",
        "fact(3)\n",
        "     "
      ],
      "metadata": {
        "colab": {
          "base_uri": "https://localhost:8080/"
        },
        "id": "vJSptJO2TiqK",
        "outputId": "5c14be43-8f7e-4bc9-df77-4c47a74c1ac5"
      },
      "execution_count": 10,
      "outputs": [
        {
          "output_type": "execute_result",
          "data": {
            "text/plain": [
              "6"
            ]
          },
          "metadata": {},
          "execution_count": 10
        }
      ]
    },
    {
      "cell_type": "markdown",
      "source": [
        "#Question6-) What are some general design guidelines for coding functions?"
      ],
      "metadata": {
        "id": "k3ZUdXkWT70R"
      }
    },
    {
      "cell_type": "markdown",
      "source": [
        "Ans.\n",
        "\n",
        "####1-)Use 4-space indentation and no tabs.\n",
        "####2-)Use docstrings\n",
        "####3-)Wrap linethat they don’t exceed 79 characters\n",
        "####4-)Use of regular and updated comments are valuable to both the coders and users\n",
        "####5-)Use of trailing commas : in case of tuple -> ('good',)\n",
        "####6-)Use Python’s default UTF-8 or ASCII encodings and not any fancy encodings\n",
        "####7-)Naming Conventions\n",
        "####8)Characters that should not be used for identifiers : ‘l’ (lowercase letter el), ‘O’ (uppercase letter oh), ‘I’ (uppercase letter eye) as single character variable names as these are similar to the numerals one and zero. 9. Don’t use non-ASCII characters in identifiers 10. Name your classes and functions consistently 11. While naming of function of methods always use self for the first argument"
      ],
      "metadata": {
        "id": "RLfhv28AUBuo"
      }
    },
    {
      "cell_type": "markdown",
      "source": [
        "#Question7-) Name three or more ways that functions can communicate results to a caller."
      ],
      "metadata": {
        "id": "bT_NsHt5UdOl"
      }
    },
    {
      "cell_type": "markdown",
      "source": [
        "Ans.\n",
        "\n",
        "####1-)Function can return single value\n",
        "####2-)Can return multiple values, tuple\n",
        "####3-)can return list,dictionary\n",
        "####4-)can return function object\n",
        "####5-)can return class object"
      ],
      "metadata": {
        "id": "574M0k0qUifA"
      }
    },
    {
      "cell_type": "code",
      "source": [],
      "metadata": {
        "id": "ALr1lE7xT5Q6"
      },
      "execution_count": null,
      "outputs": []
    }
  ]
}